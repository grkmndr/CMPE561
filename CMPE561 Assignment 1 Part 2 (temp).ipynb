{
 "cells": [
  {
   "cell_type": "code",
   "execution_count": 242,
   "metadata": {
    "collapsed": false
   },
   "outputs": [],
   "source": [
    "\n",
    "# coding: utf-8\n",
    "\n",
    "# In[438]:\n",
    "\n",
    "import re\n",
    "import numpy as np\n",
    "import os\n",
    "import codecs\n",
    "\n",
    "rootDir = '.'\n",
    "TOTAL_TRAINING_DOCUMENT_COUNT = 0\n",
    "DOCUMENT_COUNT_PER_AUTHOR = {}\n",
    "VOCABULARY = set()\n",
    "authorBags = {}\n",
    "authorFeatures = {}\n",
    "\n",
    "def tokenize(text, choice): #if choice is 1 return the bag of words, else return the unique words with their counts\n",
    "    bag = re.split('\\W+', text)\n",
    "    counts = {}\n",
    "    for x in set(bag):\n",
    "        counts.update({x:bag.count(x)})\n",
    "    if choice:\n",
    "        return bag\n",
    "    else:\n",
    "        return counts\n",
    "\n",
    "    \n",
    "def mean_var(counts): #gets a list of feature counts(comma count, word count etc.) of multiple files of one author and returns the mean and the variance of that sample.\n",
    "    mean = sum(counts)/len(counts)\n",
    "    var = 0 #variance\n",
    "    for i in range(0, len(counts)):\n",
    "        var += (counts[i]-mean)**2\n",
    "    var /= len(counts)\n",
    "    return mean,var\n",
    "\n",
    "def gaussian_pdf_value(mean,var,value):\n",
    "    if var==0:\n",
    "        return 1e-40\n",
    "    pdf = (1/np.sqrt(2*np.pi*var)) * np.exp(-1*(((value-mean)**2)/(2*var)))\n",
    "    \n",
    "    if pdf == 0:\n",
    "        return 1e-40\n",
    "    \n",
    "    return pdf \n",
    "\n",
    "def z_score(mean, var, value):\n",
    "    if var==0:\n",
    "        return np.log(1e-40)\n",
    "    return abs(value-mean)/np.sqrt(var)\n",
    "\n",
    "for dirName, subdirList, fileList in os.walk(rootDir+'/trainingSet'):\n",
    "    if(dirName != './trainingSet'):\n",
    "        currDir = dirName[14:]\n",
    "        \n",
    "        authorBags.update({currDir:{}})\n",
    "        authorFeatures.update({currDir:{'wordCount':[], #wordCount: total word count for the author.\n",
    "                                        'sentenceCount':[], #sentenceCount: sentence count per document for the author.\n",
    "                                        'wordLength':[], #wordLength: average word length for the author.\n",
    "                                        'commaCount':[], #commaCount: average number of commas per sentence for the author.\n",
    "                                        'exclamationCount':[], #exclamationCount: average number of exclamation marks per sentence for the author.\n",
    "                                        'questionCount':[] #questionCount: average number of question marks per sentence for the author.\n",
    "                                       }}) \n",
    "\n",
    "\n",
    "\n",
    "        #print(authorBags)\n",
    "        fileCount = len(fileList)\n",
    "        ##print(dirName)\n",
    "        DOCUMENT_COUNT_PER_AUTHOR.update({currDir:0})\n",
    "        \n",
    "        for fname in fileList:\n",
    "            TOTAL_TRAINING_DOCUMENT_COUNT += 1\n",
    "            DOCUMENT_COUNT_PER_AUTHOR[currDir] += 1\n",
    "            text = ''\n",
    "            with codecs.open(dirName+'/'+fname, 'r', 'ISO-8859-9') as myfile:\n",
    "                ##print(dirName+'/'+fname)\n",
    "                text = myfile.read().lower()\n",
    "\n",
    "                bagCounts = tokenize(text,0)\n",
    "                wordCount = 0\n",
    "                wordLength = 0\n",
    "                \n",
    "                for word in bagCounts:\n",
    "                    wordCount += bagCounts[word]\n",
    "                    wordLength += bagCounts[word]*len(word)                    \n",
    "                    \n",
    "                    newWord = ''\n",
    "                    if word.isdigit(): newWord = 'NUMBER'\n",
    "                    else: newWord = word\n",
    "                    \n",
    "                    if newWord in authorBags[currDir]:\n",
    "                        authorBags[currDir][newWord] += bagCounts[word]\n",
    "                    else:\n",
    "                        authorBags[currDir].update({newWord:bagCounts[word]})\n",
    "                \n",
    "                sentcount = text.count('.') #sentence count\n",
    "                authorFeatures[currDir]['wordCount'].append(wordCount) #word count of the current file\n",
    "                authorFeatures[currDir]['wordLength'].append(wordLength/wordCount) #average word length for the current file\n",
    "                authorFeatures[currDir]['sentenceCount'].append(sentcount)\n",
    "                authorFeatures[currDir]['commaCount'].append(text.count(',')/sentcount)\n",
    "                authorFeatures[currDir]['exclamationCount'].append(text.count('!')/sentcount)\n",
    "                authorFeatures[currDir]['questionCount'].append(text.count('?')/sentcount)\n",
    "                \n",
    "        if '' in authorBags[currDir]: del authorBags[currDir]['']\n",
    "            \n",
    "        VOCABULARY.update(authorBags[currDir].keys())\n",
    "        \n",
    "        for key in authorFeatures[currDir].keys():\n",
    "            authorFeatures[currDir][key] = mean_var(authorFeatures[currDir][key])\n",
    "\n",
    "\n",
    "\n"
   ]
  },
  {
   "cell_type": "code",
   "execution_count": null,
   "metadata": {
    "collapsed": false
   },
   "outputs": [],
   "source": []
  },
  {
   "cell_type": "code",
   "execution_count": 255,
   "metadata": {
    "collapsed": false
   },
   "outputs": [],
   "source": [
    "# In[439]:\n",
    "\n",
    "def text_class(text): \n",
    "    maxProb = -float('Inf')\n",
    "    maxAuth = ''\n",
    "    vocabSize = len(VOCABULARY)\n",
    "\n",
    "    sentenceCount = text.count('.')\n",
    "    commaCount = text.count(',')\n",
    "    exclamationCount = text.count('!')\n",
    "    questionCount = text.count('?')\n",
    "    \n",
    "    tokens = tokenize(text,1)\n",
    "    prob = 0\n",
    "    for authName in authorBags:\n",
    "        n = sum(authorBags[authName].values())\n",
    "        #print(n , authName)\n",
    "        prob = 0\n",
    "        wordLength = 0\n",
    "        \n",
    "        for token in tokens:\n",
    "            wordLength += len(token)\n",
    "            smoother = 0.004\n",
    "            if token in authorBags[authName]:\n",
    "                tokenProb = (authorBags[authName][token]+smoother)/(n+smoother*vocabSize)\n",
    "            else:\n",
    "                tokenProb = smoother/(n+smoother*vocabSize)\n",
    "            prob = prob + np.log(tokenProb)\n",
    "            #print('tokenProb = ' , tokenProb)\n",
    "        \n",
    "        wordLength /= len(tokens)\n",
    "        \n",
    "        authorProb = DOCUMENT_COUNT_PER_AUTHOR[authName] / TOTAL_TRAINING_DOCUMENT_COUNT\n",
    "        #print('authorProb = ', np.log(authorProb))\n",
    "        prob += np.log(authorProb)\n",
    "        \n",
    "        prob -= 2*z_score(authorFeatures[authName]['wordCount'][0], \n",
    "                          authorFeatures[authName]['wordCount'][1], \n",
    "                          len(tokens))\n",
    "        \n",
    "        prob -= 2*z_score(authorFeatures[authName]['sentenceCount'][0], \n",
    "                           authorFeatures[authName]['sentenceCount'][1], \n",
    "                           sentenceCount)\n",
    "        \n",
    "        prob -= 2*z_score(authorFeatures[authName]['wordLength'][0], \n",
    "                           authorFeatures[authName]['wordLength'][1], \n",
    "                           wordLength)\n",
    "        \n",
    "        prob -= 2*z_score(authorFeatures[authName]['commaCount'][0], \n",
    "                           authorFeatures[authName]['commaCount'][1], \n",
    "                           commaCount/sentenceCount)\n",
    "        \n",
    "        prob -= 2*z_score(authorFeatures[authName]['exclamationCount'][0], \n",
    "                           authorFeatures[authName]['exclamationCount'][1], \n",
    "                           exclamationCount/sentenceCount)\n",
    "        \n",
    "        prob -= 2*z_score(authorFeatures[authName]['questionCount'][0], \n",
    "                           authorFeatures[authName]['questionCount'][1], \n",
    "                           questionCount/sentenceCount)\n",
    "        \n",
    "        \"\"\"prob += np.log(gaussian_pdf_value(authorFeatures[authName]['wordCount'][0], \n",
    "                          authorFeatures[authName]['wordCount'][1], \n",
    "                          len(tokens)))\n",
    "        \n",
    "        prob += np.log(gaussian_pdf_value(authorFeatures[authName]['sentenceCount'][0], \n",
    "                           authorFeatures[authName]['sentenceCount'][1], \n",
    "                           sentenceCount))\n",
    "        \n",
    "        prob += np.log(gaussian_pdf_value(authorFeatures[authName]['wordLength'][0], \n",
    "                           authorFeatures[authName]['wordLength'][1], \n",
    "                           wordLength))\n",
    "        \n",
    "        prob += np.log(gaussian_pdf_value(authorFeatures[authName]['commaCount'][0], \n",
    "                           authorFeatures[authName]['commaCount'][1], \n",
    "                           commaCount/sentenceCount))\n",
    "\n",
    "        \n",
    "        prob += np.log(gaussian_pdf_value(authorFeatures[authName]['exclamationCount'][0], \n",
    "                           authorFeatures[authName]['exclamationCount'][1], \n",
    "                           exclamationCount/sentenceCount))\n",
    "        \n",
    "        prob += np.log(gaussian_pdf_value(authorFeatures[authName]['questionCount'][0], \n",
    "                           authorFeatures[authName]['questionCount'][1], \n",
    "                           questionCount/sentenceCount))\"\"\"\n",
    "        \n",
    "        \n",
    "        \"\"\"     prob -= abs(authorFeatures[authName]['wordCount'] - len(tokens))\n",
    "                prob -= abs(authorFeatures[authName]['sentenceCount'] - sentenceCount)\n",
    "                prob -= 10*abs(authorFeatures[authName]['wordLength'] - wordLength)\n",
    "                prob -= 100*abs(authorFeatures[authName]['commaCount'] - commaCount/sentenceCount)\n",
    "                prob -= 1000*abs(authorFeatures[authName]['exclamationCount'] - exclamationCount/sentenceCount)\n",
    "                prob -= 1000*abs(authorFeatures[authName]['questionCount'] - questionCount/sentenceCount)\n",
    "        \"\"\"\n",
    "        #print(wordLength)\n",
    "        #print(abs(authorFeatures[authName]['wordLength'] - wordLength))\n",
    "        if prob > maxProb:\n",
    "            maxProb = prob\n",
    "            maxAuth = authName\n",
    "        #print('Prob for auth ',authName, prob)\n",
    "    \n",
    "    #print(maxAuth)\n",
    "    return maxAuth"
   ]
  },
  {
   "cell_type": "code",
   "execution_count": null,
   "metadata": {
    "collapsed": false
   },
   "outputs": [],
   "source": [
    "\n",
    "# In[440]:\n",
    "\n",
    "\"\"\"with codecs.open('./testSet/ahmetAltan/M7.txt', 'r', 'ISO-8859-9') as myfile:\n",
    "    text = myfile.read()\n",
    "    bagCounts = tokenize(text,1)\n",
    "    text_class(bagCounts)\"\"\"\n",
    "\n",
    "success = 0\n",
    "totalTrial = 0\n",
    "for dirName, subdirList, fileList in os.walk(rootDir+'/testSet'):\n",
    "    if(dirName != './testSet'):\n",
    "        currDir = dirName[10:]\n",
    "        for fname in fileList:\n",
    "            text = ''\n",
    "            with codecs.open(dirName+'/'+fname, 'r', 'ISO-8859-9') as myfile:\n",
    "                #print(dirName+'/'+fname)\n",
    "                text = myfile.read().lower()\n",
    "                auth = text_class(text)\n",
    "                totalTrial += 1\n",
    "                if auth == dirName[10:]:\n",
    "                    #print('success')\n",
    "                    success +=1\n",
    "                #else:\n",
    "                    #print('fail')\n",
    "print('Finished')\n",
    "print('Success rate :', success/ totalTrial)"
   ]
  },
  {
   "cell_type": "code",
   "execution_count": 105,
   "metadata": {
    "collapsed": false
   },
   "outputs": [
    {
     "name": "stdout",
     "output_type": "stream",
     "text": [
      "Success rate : 0.6703296703296703\n"
     ]
    }
   ],
   "source": [
    "# In[441]:\n",
    "\n"
   ]
  },
  {
   "cell_type": "code",
   "execution_count": 173,
   "metadata": {
    "collapsed": false
   },
   "outputs": [
    {
     "name": "stdout",
     "output_type": "stream",
     "text": [
      "hasmetBabaoglu\n"
     ]
    }
   ],
   "source": [
    "# In[442]:\n",
    "#0.7527472527472527\n",
    "with codecs.open('./testSet/hasmetBabaoglu/8.txt', 'r', 'ISO-8859-9') as myfile:\n",
    "    text = myfile.read()\n",
    "    bagCounts = tokenize(text,1)\n",
    "    print(text_class(text))"
   ]
  },
  {
   "cell_type": "code",
   "execution_count": 245,
   "metadata": {
    "collapsed": false
   },
   "outputs": [
    {
     "data": {
      "text/plain": [
       "54.868590109271217"
      ]
     },
     "execution_count": 245,
     "metadata": {},
     "output_type": "execute_result"
    }
   ],
   "source": [
    "z_score(772.6666666666666, 130.44444444444446, 146)"
   ]
  },
  {
   "cell_type": "code",
   "execution_count": 125,
   "metadata": {
    "collapsed": false
   },
   "outputs": [
    {
     "name": "stderr",
     "output_type": "stream",
     "text": [
      "/Users/macapple/anaconda3/lib/python3.5/site-packages/ipykernel/__main__.py:1: RuntimeWarning: divide by zero encountered in log\n",
      "  if __name__ == '__main__':\n"
     ]
    },
    {
     "data": {
      "text/plain": [
       "-inf"
      ]
     },
     "execution_count": 125,
     "metadata": {},
     "output_type": "execute_result"
    }
   ],
   "source": [
    "np.log(0)"
   ]
  },
  {
   "cell_type": "code",
   "execution_count": 252,
   "metadata": {
    "collapsed": false
   },
   "outputs": [
    {
     "name": "stdout",
     "output_type": "stream",
     "text": [
      "0.439805283582\n",
      "1.61121834387\n"
     ]
    },
    {
     "data": {
      "image/png": "[encoded data removed]",
      "text/plain": [
       "<matplotlib.figure.Figure at 0x10919c8d0>"
      ]
     },
     "metadata": {},
     "output_type": "display_data"
    }
   ],
   "source": [
    "%matplotlib inline\n",
    "import matplotlib.pyplot as plt\n",
    "import numpy as np\n",
    "import matplotlib.mlab as mlab\n",
    "import math\n",
    "\n",
    "a=0.1\n",
    "print(np.log(z_score(authorFeatures['abbasGuclu']['exclamationCount'][0], \n",
    "                           authorFeatures['abbasGuclu']['exclamationCount'][1], \n",
    "                           a)))\n",
    "\n",
    "\n",
    "print(z_score(authorFeatures['abbasGuclu']['wordCount'][0], \n",
    "                           authorFeatures['abbasGuclu']['wordCount'][1], \n",
    "                           500))\n",
    "\n",
    "mean = authorFeatures['abbasGuclu']['wordCount'][0]\n",
    "variance = authorFeatures['abbasGuclu']['wordCount'][1]\n",
    "sigma = math.sqrt(variance)\n",
    "x = np.linspace(-1000,1000,100)\n",
    "plt.plot(x,mlab.normpdf(x,mean,sigma))\n",
    "\n",
    "plt.show()"
   ]
  },
  {
   "cell_type": "code",
   "execution_count": 211,
   "metadata": {
    "collapsed": false
   },
   "outputs": [
    {
     "ename": "NameError",
     "evalue": "name 'var' is not defined",
     "output_type": "error",
     "traceback": [
      "\u001b[0;31m---------------------------------------------------------------------------\u001b[0m",
      "\u001b[0;31mNameError\u001b[0m                                 Traceback (most recent call last)",
      "\u001b[0;32m<ipython-input-211-d64de179d453>\u001b[0m in \u001b[0;36m<module>\u001b[0;34m()\u001b[0m\n\u001b[0;32m----> 1\u001b[0;31m \u001b[0;34m(\u001b[0m\u001b[0;36m1\u001b[0m\u001b[0;34m/\u001b[0m\u001b[0mnp\u001b[0m\u001b[0;34m.\u001b[0m\u001b[0msqrt\u001b[0m\u001b[0;34m(\u001b[0m\u001b[0;36m2\u001b[0m\u001b[0;34m*\u001b[0m\u001b[0mnp\u001b[0m\u001b[0;34m.\u001b[0m\u001b[0mpi\u001b[0m\u001b[0;34m*\u001b[0m\u001b[0mvar\u001b[0m\u001b[0;34m)\u001b[0m\u001b[0;34m)\u001b[0m \u001b[0;34m*\u001b[0m \u001b[0mnp\u001b[0m\u001b[0;34m.\u001b[0m\u001b[0mexp\u001b[0m\u001b[0;34m(\u001b[0m\u001b[0;34m-\u001b[0m\u001b[0;36m1\u001b[0m\u001b[0;34m*\u001b[0m\u001b[0;34m(\u001b[0m\u001b[0;34m(\u001b[0m\u001b[0;34m(\u001b[0m\u001b[0mvalue\u001b[0m\u001b[0;34m-\u001b[0m\u001b[0mmean\u001b[0m\u001b[0;34m)\u001b[0m\u001b[0;34m**\u001b[0m\u001b[0;36m2\u001b[0m\u001b[0;34m)\u001b[0m\u001b[0;34m/\u001b[0m\u001b[0;34m(\u001b[0m\u001b[0;36m2\u001b[0m\u001b[0;34m*\u001b[0m\u001b[0mvar\u001b[0m\u001b[0;34m)\u001b[0m\u001b[0;34m)\u001b[0m\u001b[0;34m)\u001b[0m\u001b[0;34m\u001b[0m\u001b[0m\n\u001b[0m",
      "\u001b[0;31mNameError\u001b[0m: name 'var' is not defined"
     ]
    }
   ],
   "source": []
  },
  {
   "cell_type": "code",
   "execution_count": 226,
   "metadata": {
    "collapsed": false
   },
   "outputs": [
    {
     "data": {
      "text/plain": [
       "1.9410835087212867e-12"
      ]
     },
     "execution_count": 226,
     "metadata": {},
     "output_type": "execute_result"
    }
   ],
   "source": []
  },
  {
   "cell_type": "code",
   "execution_count": 221,
   "metadata": {
    "collapsed": false
   },
   "outputs": [
    {
     "data": {
      "text/plain": [
       "0.0014627058398094506"
      ]
     },
     "execution_count": 221,
     "metadata": {},
     "output_type": "execute_result"
    }
   ],
   "source": []
  }
 ],
 "metadata": {
  "kernelspec": {
   "display_name": "Python 3",
   "language": "python",
   "name": "python3"
  },
  "language_info": {
   "codemirror_mode": {
    "name": "ipython",
    "version": 3
   },
   "file_extension": ".py",
   "mimetype": "text/x-python",
   "name": "python",
   "nbconvert_exporter": "python",
   "pygments_lexer": "ipython3",
   "version": "3.5.1"
  }
 },
 "nbformat": 4,
 "nbformat_minor": 0
}
